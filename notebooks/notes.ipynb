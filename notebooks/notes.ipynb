{
 "cells": [
  {
   "cell_type": "markdown",
   "id": "b76fd75e",
   "metadata": {},
   "source": [
    "---\n",
    "## Categorical data\n",
    "\n",
    "- Frequency tables\n",
    "   Great for numerical summaries\n",
    "- Bar charts\n",
    "   Great for visualization\n",
    "---"
   ]
  },
  {
   "cell_type": "markdown",
   "id": "c741b63e",
   "metadata": {},
   "source": [
    "---\n",
    "## Quantitative data\n",
    "\n",
    "- Histograms are different from bar charts. Bar charts are used for categorical data while histograms are used for quantitative data.\n",
    "\n",
    "- We can have a **normal/unimodal/bimodal** distribution in a histogram.\n",
    "\n",
    "- It can be left/right skewed.\n",
    "---"
   ]
  },
  {
   "cell_type": "markdown",
   "id": "ba79ce83",
   "metadata": {},
   "source": [
    "---\n",
    "## Main aspects\n",
    "\n",
    "- Shape\n",
    "- Center\n",
    "- Spread\n",
    "- Outlier\n",
    "---"
   ]
  }
 ],
 "metadata": {
  "language_info": {
   "name": "python"
  }
 },
 "nbformat": 4,
 "nbformat_minor": 5
}
